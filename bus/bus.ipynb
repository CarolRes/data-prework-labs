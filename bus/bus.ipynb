{
 "cells": [
  {
   "cell_type": "markdown",
   "metadata": {},
   "source": [
    "# Bus\n",
    "\n",
    "This bus has a passenger entry and exit control system to monitor the number of occupants it carries and thus detect when there is too high a capacity.\n",
    "\n",
    "At each stop the entry and exit of passengers is represented by a tuple consisting of two integer numbers.\n",
    "```\n",
    "bus_stop = (in, out)\n",
    "```\n",
    "The succession of stops is represented by a list of these tuples.\n",
    "```\n",
    "stops = [(in1, out1), (in2, out2), (in3, out3), (in4, out4)]\n",
    "```\n",
    "\n",
    "## Goals:\n",
    "* lists, tuples\n",
    "* while/for loops\n",
    "* minimum, maximum, length\n",
    "* average, standard deviation\n",
    "\n",
    "## Tasks\n",
    "1. Calculate the number of stops.\n",
    "2. Assign to a variable a list whose elements are the number of passengers at each stop (in-out),\n",
    "3. Find the maximum occupation of the bus.\n",
    "4. Calculate the average occupation. And the standard deviation.\n"
   ]
  },
  {
   "cell_type": "code",
   "execution_count": 17,
   "metadata": {},
   "outputs": [
    {
     "name": "stdout",
     "output_type": "stream",
     "text": [
      "Digite a quantidade de passageiros ou '99' para sair\n",
      "entrada = 2\n",
      "saida = 1\n",
      "entrada = 2\n",
      "saida = 1\n",
      "entrada = 2\n",
      "saida = 1\n",
      "entrada = 2\n",
      "saida = 1\n",
      "entrada = 2\n",
      "saida = 1\n",
      "entrada = fim\n",
      "[(2, 1), (2, 1), (2, 1), (2, 1), (2, 1)]\n"
     ]
    }
   ],
   "source": [
    "# variables\n",
    "entrada = 0\n",
    "saida = 0\n",
    "\n",
    "bus_stop = int()\n",
    "limite = 50\n",
    "paradas = []\n",
    "encerrar = False\n",
    "\n",
    "input(\"Digite a quantidade de passageiros ou '99' para sair\")\n",
    "\n",
    "while entrada !=  'fim':\n",
    "    entrada = input(\"entrada = \")\n",
    "    if entrada == 'fim':\n",
    "        break\n",
    "    else:\n",
    "        saida = input(\"saida = \")\n",
    "    bus_stop= (int(entrada), int(saida))\n",
    "    paradas.append (bus_stop)\n",
    "\n",
    "\n",
    "print(paradas)"
   ]
  },
  {
   "cell_type": "code",
   "execution_count": 18,
   "metadata": {},
   "outputs": [
    {
     "name": "stdout",
     "output_type": "stream",
     "text": [
      "Quantidade de paradas =  5\n"
     ]
    }
   ],
   "source": [
    "# 1. Calculate the number of stops.\n",
    "\n",
    "qtd_paradas = 0\n",
    "\n",
    "for t in paradas:\n",
    "\tqtd_paradas +=1\n",
    "\n",
    "print(\"Quantidade de paradas = \", qtd_paradas)\n",
    "\n"
   ]
  },
  {
   "cell_type": "code",
   "execution_count": 22,
   "metadata": {},
   "outputs": [
    {
     "name": "stdout",
     "output_type": "stream",
     "text": [
      "Histórico de ocupantes no ônibus =  [1, 2, 3, 4, 5]\n",
      "Quantidade de passageiros no ônibus (final) =  5\n",
      "Máximo de ocupantes =  5\n",
      "Média de passageiros  =  3.0\n",
      "Desvio Padrão do histórico de passageiros =  1.58\n"
     ]
    }
   ],
   "source": [
    "# 2. Assign a variable a list whose elements are the number of passengers in each stop: \n",
    "# Each item depends on the previous item in the list + in - out.\n",
    "##Number passengers in the bus##\n",
    "# 3. Find the maximum occupation of the bus.\n",
    "# 4. Calculate the average occupation. And the standard deviation.\n",
    "\n",
    "\n",
    "##Number passengers in the bus##\n",
    "##Max of passengers##\n",
    "\n",
    "number_pas = 0\n",
    "total_pas = 0\n",
    "hist_ocup = []\n",
    "\n",
    "for tupla in paradas:\n",
    "\tnumber_pas = tupla[0]-tupla[1]\n",
    "\ttotal_pas+=number_pas\n",
    "\thist_ocup.append(total_pas)\n",
    "\n",
    "soma = sum(hist_ocup)\n",
    "\t\n",
    "print('Histórico de ocupantes no ônibus = ', hist_ocup)\n",
    "print('Quantidade de passageiros no ônibus (final) = ',total_pas)\n",
    "print('Máximo de ocupantes = ', max(hist_ocup))\n",
    "print('Média de passageiros  = ', soma/len(hist_ocup))\n",
    "\n",
    "##Desvio padrão##\n",
    "\n",
    "import statistics\n",
    "print( \"Desvio Padrão do histórico de passageiros = \", \"%.2f\" %(statistics.stdev(hist_ocup)))\n"
   ]
  },
  {
   "cell_type": "code",
   "execution_count": null,
   "metadata": {},
   "outputs": [],
   "source": [
    "\n",
    "\n"
   ]
  }
 ],
 "metadata": {
  "kernelspec": {
   "display_name": "Python 3",
   "language": "python",
   "name": "python3"
  },
  "language_info": {
   "codemirror_mode": {
    "name": "ipython",
    "version": 3
   },
   "file_extension": ".py",
   "mimetype": "text/x-python",
   "name": "python",
   "nbconvert_exporter": "python",
   "pygments_lexer": "ipython3",
   "version": "3.7.6"
  }
 },
 "nbformat": 4,
 "nbformat_minor": 2
}
